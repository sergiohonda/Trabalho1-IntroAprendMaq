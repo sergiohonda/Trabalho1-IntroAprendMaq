{
 "cells": [
  {
   "cell_type": "markdown",
   "id": "eb603a46",
   "metadata": {},
   "source": [
    "Trabalho 1 - Introdução ao Aprendizado de Máquina\n",
    "Sérgio Hiroshi Honda - DRE:120035741"
   ]
  },
  {
   "cell_type": "markdown",
   "id": "44e881e3",
   "metadata": {},
   "source": [
    "Importação das bibliotecas necessárias ao longo do código"
   ]
  },
  {
   "cell_type": "code",
   "execution_count": 1,
   "id": "96e60f2e",
   "metadata": {},
   "outputs": [],
   "source": [
    "import pandas as pd\n",
    "import numpy as np\n",
    "import matplotlib.pyplot as plt\n",
    "import seaborn as sns\n",
    "\n",
    "from sklearn.model_selection import GridSearchCV\n",
    "from sklearn.neighbors import KNeighborsClassifier\n",
    "from scipy.stats import pearsonr"
   ]
  },
  {
   "cell_type": "markdown",
   "id": "3e695127",
   "metadata": {},
   "source": [
    "Criação da função responsável por criar o arquivo de respostas e escrever cada ID e seu respectivo resultado previsto"
   ]
  },
  {
   "cell_type": "code",
   "execution_count": 2,
   "id": "04b6923d",
   "metadata": {},
   "outputs": [],
   "source": [
    "def criar_resposta(arr):\n",
    "    with open('arquivo_respostas.csv', 'w') as arq:\n",
    "        arq.write('id_solicitante,inadimplente\\n')\n",
    "        for n in range(1, 5001):\n",
    "            arq.write(f'{n + 20000},{arr[n - 1]}\\n')"
   ]
  },
  {
   "cell_type": "markdown",
   "id": "8660d583",
   "metadata": {},
   "source": [
    "Importando os arquivos .csv dos dados de treino e de teste em forma de DataFrames, e retirando a primeira linha de ambos (Chaves Primárias)"
   ]
  },
  {
   "cell_type": "code",
   "execution_count": 3,
   "id": "21bb6163",
   "metadata": {
    "scrolled": true
   },
   "outputs": [],
   "source": [
    "dados_treinamento = pd.read_csv(\"conjunto_de_treinamento.csv\")\n",
    "dados_teste = pd.read_csv(\"conjunto_de_teste.csv\")\n",
    "\n",
    "dados_treinamento = dados_treinamento.iloc[:,1:]\n",
    "dados_teste = dados_teste.iloc[:,1:]"
   ]
  },
  {
   "cell_type": "markdown",
   "id": "17b43f51",
   "metadata": {},
   "source": [
    "Lista as colunas a serem removidas para aumentar a precisão do modelo (foi feita um loop, onde, ao retira-las, a acurácia do modelo melhorou)"
   ]
  },
  {
   "cell_type": "code",
   "execution_count": 4,
   "id": "01e65597",
   "metadata": {},
   "outputs": [],
   "source": [
    "colunas_removidas = [\n",
    "    'grau_instrucao',\n",
    "    'possui_telefone_celular',\n",
    "    'meses_no_trabalho',\n",
    "    'grau_instrucao_companheiro',\n",
    "    'possui_email',\n",
    "    'nacionalidade',\n",
    "    'possui_telefone_celular'\n",
    "]"
   ]
  },
  {
   "cell_type": "markdown",
   "id": "dcf228a8",
   "metadata": {},
   "source": [
    "Transformando as colunas que possuem valores de texto em colunas categóricas (númericas), para poderem ser trabalhadas pelo KNN. Além disso, remove as colunas encontradas anteriormente que pioram a qualidade do modelo."
   ]
  },
  {
   "cell_type": "code",
   "execution_count": 5,
   "id": "50d37d43",
   "metadata": {
    "scrolled": true
   },
   "outputs": [
    {
     "name": "stderr",
     "output_type": "stream",
     "text": [
      "C:\\Users\\sergi\\AppData\\Local\\Temp\\ipykernel_21388\\2223330473.py:4: FutureWarning: Passing a set as an indexer is deprecated and will raise in a future version. Use a list instead.\n",
      "  dados_treinamento_clean = pd.get_dummies(dados_treinamento, columns=colunas_texto)\n"
     ]
    }
   ],
   "source": [
    "colunas_texto = ['forma_envio_solicitacao', 'sexo', 'possui_telefone_residencial', 'vinculo_formal_com_empresa', 'possui_telefone_trabalho']\n",
    "colunas_texto = set(colunas_texto) - set(colunas_removidas)\n",
    "\n",
    "dados_treinamento_clean = pd.get_dummies(dados_treinamento, columns=colunas_texto)\n",
    "\n",
    "dados_treinamento_clean.drop(columns=colunas_removidas, inplace=True)"
   ]
  },
  {
   "cell_type": "code",
   "execution_count": 6,
   "id": "b594fbdb",
   "metadata": {},
   "outputs": [],
   "source": [
    "estados = ['AC', 'AL', 'AP', 'AM', 'BA', 'CE', 'DF', 'ES', 'GO',\n",
    "           'MA', 'MT', 'MS', 'MG', 'PA', 'PB', 'PR', 'PE', 'PI',\n",
    "           'RJ', 'RN', 'RS', 'RO', 'RR', 'SC', 'SP', 'SE', 'TO']\n",
    "\n",
    "dados_treinamento_clean['estado_onde_reside'] = dados_treinamento_clean['estado_onde_reside'].map({estado: indice for indice, estado in enumerate(estados)})\n",
    "dados_treinamento_clean['estado_onde_nasceu'] = dados_treinamento_clean['estado_onde_nasceu'].map({estado: indice for indice, estado in enumerate(estados)})\n",
    "dados_treinamento_clean['estado_onde_trabalha'] = dados_treinamento_clean['estado_onde_trabalha'].map({estado: indice for indice, estado in enumerate(estados)})\n",
    "\n",
    "dados_treinamento_clean['codigo_area_telefone_trabalho'] = dados_treinamento_clean['codigo_area_telefone_trabalho'].replace(' ', 0).astype(np.int64)\n",
    "dados_treinamento_clean['codigo_area_telefone_residencial'] = dados_treinamento_clean['codigo_area_telefone_residencial'].replace(' ', 0).astype(np.int64)"
   ]
  },
  {
   "cell_type": "markdown",
   "id": "9784bcf4",
   "metadata": {},
   "source": [
    "Faz uma verificação para que todos as colunas possuam apenas elementos númericos, e converte todos os valores para int64, o que será necessário para calcular o valor do coeficiente de Pearson em seguida."
   ]
  },
  {
   "cell_type": "code",
   "execution_count": 7,
   "id": "b03378af",
   "metadata": {
    "scrolled": true
   },
   "outputs": [
    {
     "name": "stderr",
     "output_type": "stream",
     "text": [
      "C:\\Users\\sergi\\anaconda3\\Lib\\site-packages\\pandas\\core\\series.py:893: RuntimeWarning: invalid value encountered in cast\n",
      "  return np.asarray(self._values, dtype)\n"
     ]
    }
   ],
   "source": [
    "colunas_treinamento = dados_treinamento_clean.columns\n",
    "colunas_str = []\n",
    "for col in colunas_treinamento:\n",
    "    if type(dados_treinamento_clean[col][0]) == str:\n",
    "        colunas_str.append(col)\n",
    "    elif dados_treinamento_clean[col][0].dtype != 'int64':\n",
    "        dados_treinamento_clean[col] = np.int64(dados_treinamento_clean[col])\n"
   ]
  },
  {
   "cell_type": "markdown",
   "id": "06069763",
   "metadata": {},
   "source": [
    "Remove as colunas, que, quando comparadas com o valor target (inadimplente), possuem coeficiente de Pearson menor do que 0.01 em módulo ou igual a NaN (o que ocorre em casos em que todos os valores de uma coluna são iguais)."
   ]
  },
  {
   "cell_type": "code",
   "execution_count": 8,
   "id": "713840d7",
   "metadata": {
    "scrolled": false
   },
   "outputs": [],
   "source": [
    "for col in colunas_treinamento:\n",
    "    coef_pears = pearsonr(dados_treinamento_clean[col],dados_treinamento_clean['inadimplente'])[0]\n",
    "    if np.isnan(coef_pears):\n",
    "        dados_treinamento_clean.drop(columns=col, inplace=True)\n",
    "    if (coef_pears < 0.005 and coef_pears > -0.005):\n",
    "        dados_treinamento_clean.drop(columns=col, inplace=True)"
   ]
  },
  {
   "cell_type": "markdown",
   "id": "9517ccb6",
   "metadata": {},
   "source": [
    "Exibe o coeficiente de Pearson de cada coluna restante na tabela (deixei comentado pois era apenas ilustrativo e o código demora um pouco para rodar)"
   ]
  },
  {
   "cell_type": "code",
   "execution_count": 9,
   "id": "0efc9a96",
   "metadata": {},
   "outputs": [
    {
     "name": "stdout",
     "output_type": "stream",
     "text": [
      "  produto_solicitado  0.030\n",
      "      dia_vencimento  0.080\n",
      "               idade -0.121\n",
      "        estado_civil -0.031\n",
      "    qtde_dependentes  0.018\n",
      "  estado_onde_reside -0.028\n",
      "codigo_area_telefone_residencial -0.039\n",
      "         renda_extra  0.006\n",
      "possui_cartao_mastercard -0.020\n",
      "qtde_contas_bancarias  0.014\n",
      "qtde_contas_bancarias_especiais  0.014\n",
      "        possui_carro  0.013\n",
      "estado_onde_trabalha  0.028\n",
      "codigo_area_telefone_trabalho  0.019\n",
      "            ocupacao -0.009\n",
      "   local_onde_reside -0.019\n",
      " local_onde_trabalha -0.019\n",
      "        inadimplente  1.000\n",
      "possui_telefone_residencial_N  0.081\n",
      "possui_telefone_residencial_Y -0.081\n",
      "              sexo_   0.008\n",
      "              sexo_F -0.030\n",
      "              sexo_M  0.029\n",
      "possui_telefone_trabalho_N -0.016\n",
      "possui_telefone_trabalho_Y  0.016\n",
      "vinculo_formal_com_empresa_N -0.006\n",
      "vinculo_formal_com_empresa_Y  0.006\n",
      "forma_envio_solicitacao_correio -0.017\n",
      "forma_envio_solicitacao_internet -0.006\n",
      "forma_envio_solicitacao_presencial  0.014\n"
     ]
    }
   ],
   "source": [
    "# colunas_treinamento = dados_treinamento_clean.columns\n",
    "# for col in colunas_treinamento:\n",
    "#     print('%20s %6.3f' % ( col , pearsonr(dados_treinamento_clean[col],dados_treinamento_clean['inadimplente'])[0] ) )"
   ]
  },
  {
   "cell_type": "markdown",
   "id": "2ba75a22",
   "metadata": {},
   "source": [
    "Analisa os coeficientes de Pearson das colunas e retorna eles ordenados pelo valor seu valor em módulo. Ao final remove uma das colunas relacionadas ao telefone residencial por estar redundante no modelo."
   ]
  },
  {
   "cell_type": "code",
   "execution_count": 10,
   "id": "7fe68770",
   "metadata": {},
   "outputs": [
    {
     "data": {
      "text/html": [
       "<div>\n",
       "<style scoped>\n",
       "    .dataframe tbody tr th:only-of-type {\n",
       "        vertical-align: middle;\n",
       "    }\n",
       "\n",
       "    .dataframe tbody tr th {\n",
       "        vertical-align: top;\n",
       "    }\n",
       "\n",
       "    .dataframe thead th {\n",
       "        text-align: right;\n",
       "    }\n",
       "</style>\n",
       "<table border=\"1\" class=\"dataframe\">\n",
       "  <thead>\n",
       "    <tr style=\"text-align: right;\">\n",
       "      <th></th>\n",
       "      <th>coluna</th>\n",
       "      <th>pearsonr</th>\n",
       "    </tr>\n",
       "  </thead>\n",
       "  <tbody>\n",
       "    <tr>\n",
       "      <th>7</th>\n",
       "      <td>renda_extra</td>\n",
       "      <td>0.005851</td>\n",
       "    </tr>\n",
       "    <tr>\n",
       "      <th>26</th>\n",
       "      <td>vinculo_formal_com_empresa_Y</td>\n",
       "      <td>0.006243</td>\n",
       "    </tr>\n",
       "    <tr>\n",
       "      <th>25</th>\n",
       "      <td>vinculo_formal_com_empresa_N</td>\n",
       "      <td>0.006243</td>\n",
       "    </tr>\n",
       "    <tr>\n",
       "      <th>28</th>\n",
       "      <td>forma_envio_solicitacao_internet</td>\n",
       "      <td>0.006250</td>\n",
       "    </tr>\n",
       "    <tr>\n",
       "      <th>20</th>\n",
       "      <td>sexo_</td>\n",
       "      <td>0.008019</td>\n",
       "    </tr>\n",
       "    <tr>\n",
       "      <th>14</th>\n",
       "      <td>ocupacao</td>\n",
       "      <td>0.008989</td>\n",
       "    </tr>\n",
       "    <tr>\n",
       "      <th>11</th>\n",
       "      <td>possui_carro</td>\n",
       "      <td>0.012780</td>\n",
       "    </tr>\n",
       "    <tr>\n",
       "      <th>29</th>\n",
       "      <td>forma_envio_solicitacao_presencial</td>\n",
       "      <td>0.013617</td>\n",
       "    </tr>\n",
       "    <tr>\n",
       "      <th>9</th>\n",
       "      <td>qtde_contas_bancarias</td>\n",
       "      <td>0.014133</td>\n",
       "    </tr>\n",
       "    <tr>\n",
       "      <th>10</th>\n",
       "      <td>qtde_contas_bancarias_especiais</td>\n",
       "      <td>0.014133</td>\n",
       "    </tr>\n",
       "    <tr>\n",
       "      <th>24</th>\n",
       "      <td>possui_telefone_trabalho_Y</td>\n",
       "      <td>0.016030</td>\n",
       "    </tr>\n",
       "    <tr>\n",
       "      <th>23</th>\n",
       "      <td>possui_telefone_trabalho_N</td>\n",
       "      <td>0.016030</td>\n",
       "    </tr>\n",
       "    <tr>\n",
       "      <th>27</th>\n",
       "      <td>forma_envio_solicitacao_correio</td>\n",
       "      <td>0.017300</td>\n",
       "    </tr>\n",
       "    <tr>\n",
       "      <th>4</th>\n",
       "      <td>qtde_dependentes</td>\n",
       "      <td>0.017628</td>\n",
       "    </tr>\n",
       "    <tr>\n",
       "      <th>13</th>\n",
       "      <td>codigo_area_telefone_trabalho</td>\n",
       "      <td>0.018635</td>\n",
       "    </tr>\n",
       "    <tr>\n",
       "      <th>15</th>\n",
       "      <td>local_onde_reside</td>\n",
       "      <td>0.018884</td>\n",
       "    </tr>\n",
       "    <tr>\n",
       "      <th>16</th>\n",
       "      <td>local_onde_trabalha</td>\n",
       "      <td>0.018884</td>\n",
       "    </tr>\n",
       "    <tr>\n",
       "      <th>8</th>\n",
       "      <td>possui_cartao_mastercard</td>\n",
       "      <td>0.019956</td>\n",
       "    </tr>\n",
       "    <tr>\n",
       "      <th>5</th>\n",
       "      <td>estado_onde_reside</td>\n",
       "      <td>0.028290</td>\n",
       "    </tr>\n",
       "    <tr>\n",
       "      <th>12</th>\n",
       "      <td>estado_onde_trabalha</td>\n",
       "      <td>0.028373</td>\n",
       "    </tr>\n",
       "    <tr>\n",
       "      <th>22</th>\n",
       "      <td>sexo_M</td>\n",
       "      <td>0.029372</td>\n",
       "    </tr>\n",
       "    <tr>\n",
       "      <th>21</th>\n",
       "      <td>sexo_F</td>\n",
       "      <td>0.029760</td>\n",
       "    </tr>\n",
       "    <tr>\n",
       "      <th>0</th>\n",
       "      <td>produto_solicitado</td>\n",
       "      <td>0.030103</td>\n",
       "    </tr>\n",
       "    <tr>\n",
       "      <th>3</th>\n",
       "      <td>estado_civil</td>\n",
       "      <td>0.031269</td>\n",
       "    </tr>\n",
       "    <tr>\n",
       "      <th>6</th>\n",
       "      <td>codigo_area_telefone_residencial</td>\n",
       "      <td>0.038813</td>\n",
       "    </tr>\n",
       "    <tr>\n",
       "      <th>1</th>\n",
       "      <td>dia_vencimento</td>\n",
       "      <td>0.080338</td>\n",
       "    </tr>\n",
       "    <tr>\n",
       "      <th>19</th>\n",
       "      <td>possui_telefone_residencial_Y</td>\n",
       "      <td>0.080824</td>\n",
       "    </tr>\n",
       "    <tr>\n",
       "      <th>18</th>\n",
       "      <td>possui_telefone_residencial_N</td>\n",
       "      <td>0.080824</td>\n",
       "    </tr>\n",
       "    <tr>\n",
       "      <th>2</th>\n",
       "      <td>idade</td>\n",
       "      <td>0.120678</td>\n",
       "    </tr>\n",
       "    <tr>\n",
       "      <th>17</th>\n",
       "      <td>inadimplente</td>\n",
       "      <td>1.000000</td>\n",
       "    </tr>\n",
       "  </tbody>\n",
       "</table>\n",
       "</div>"
      ],
      "text/plain": [
       "                                coluna  pearsonr\n",
       "7                          renda_extra  0.005851\n",
       "26        vinculo_formal_com_empresa_Y  0.006243\n",
       "25        vinculo_formal_com_empresa_N  0.006243\n",
       "28    forma_envio_solicitacao_internet  0.006250\n",
       "20                              sexo_   0.008019\n",
       "14                            ocupacao  0.008989\n",
       "11                        possui_carro  0.012780\n",
       "29  forma_envio_solicitacao_presencial  0.013617\n",
       "9                qtde_contas_bancarias  0.014133\n",
       "10     qtde_contas_bancarias_especiais  0.014133\n",
       "24          possui_telefone_trabalho_Y  0.016030\n",
       "23          possui_telefone_trabalho_N  0.016030\n",
       "27     forma_envio_solicitacao_correio  0.017300\n",
       "4                     qtde_dependentes  0.017628\n",
       "13       codigo_area_telefone_trabalho  0.018635\n",
       "15                   local_onde_reside  0.018884\n",
       "16                 local_onde_trabalha  0.018884\n",
       "8             possui_cartao_mastercard  0.019956\n",
       "5                   estado_onde_reside  0.028290\n",
       "12                estado_onde_trabalha  0.028373\n",
       "22                              sexo_M  0.029372\n",
       "21                              sexo_F  0.029760\n",
       "0                   produto_solicitado  0.030103\n",
       "3                         estado_civil  0.031269\n",
       "6     codigo_area_telefone_residencial  0.038813\n",
       "1                       dia_vencimento  0.080338\n",
       "19       possui_telefone_residencial_Y  0.080824\n",
       "18       possui_telefone_residencial_N  0.080824\n",
       "2                                idade  0.120678\n",
       "17                        inadimplente  1.000000"
      ]
     },
     "execution_count": 10,
     "metadata": {},
     "output_type": "execute_result"
    }
   ],
   "source": [
    "colunas_treinamento = dados_treinamento_clean.columns\n",
    "d = {'coluna':[], 'pearsonr':[]}\n",
    "pearson_r = pd.DataFrame(data=d)\n",
    "\n",
    "for col in colunas_treinamento:\n",
    "    temp_pears = abs(pearsonr(dados_treinamento_clean[col],dados_treinamento_clean['inadimplente'])[0])\n",
    "    tempDf = pd.DataFrame({'coluna':[col], 'pearsonr':[temp_pears]})\n",
    "    pearson_r = pd.concat([pearson_r, tempDf], ignore_index=True)\n",
    "\n",
    "# dados_treinamento_clean.drop(columns=['possui_telefone_residencial_Y', 'qtde_contas_bancarias',\n",
    "#                                       'possui_telefone_trabalho_N', 'local_onde_trabalha'], inplace=True)    \n",
    "pearson_r.sort_values(by='pearsonr')"
   ]
  },
  {
   "cell_type": "markdown",
   "id": "32f7626c",
   "metadata": {},
   "source": [
    "Cria dois arrays ('x' e 'y'), de forma que o segundo possui apenas a coluna target (inadimplente) e o primeiro possui todas as outras. Em seguida, usa-se a função train_test_split para separar os arrays de treino e os de teste, que serão usados no modelo, com a proporção de 85% e 15%, respectivamente."
   ]
  },
  {
   "cell_type": "code",
   "execution_count": 11,
   "id": "d552232e",
   "metadata": {},
   "outputs": [],
   "source": [
    "from sklearn.model_selection import train_test_split\n",
    "\n",
    "x = dados_treinamento_clean.drop(columns='inadimplente').values\n",
    "y = dados_treinamento_clean['inadimplente'].values\n",
    "\n",
    "x_treino, x_teste, y_treino, y_teste = train_test_split(\n",
    "        x,\n",
    "        y,\n",
    "        test_size =4000,\n",
    "        random_state = 23\n",
    ")"
   ]
  },
  {
   "cell_type": "markdown",
   "id": "a7c544a5",
   "metadata": {},
   "source": [
    "Cria um scaler para normalizar os dados dos arrays de treinamento e de teste, de forma que nenhuma coluna possua um peso maior do que a outra a priori."
   ]
  },
  {
   "cell_type": "code",
   "execution_count": 12,
   "id": "f3a8d0a7",
   "metadata": {
    "scrolled": false
   },
   "outputs": [],
   "source": [
    "from sklearn.preprocessing import StandardScaler\n",
    "\n",
    "scaler  = StandardScaler()\n",
    "x_treino = scaler.fit_transform(x_treino)\n",
    "x_teste  = scaler.transform(x_teste)"
   ]
  },
  {
   "cell_type": "markdown",
   "id": "d4ad1efc",
   "metadata": {},
   "source": [
    "Aplicação do modelo KNN de previsão, com um range inicial de 100 a 400 vizinhos, que vai se ajustando por meio da função GridSearchCV, até chegar no valor final exato de vizinhos que maximiza a precisão do modelo."
   ]
  },
  {
   "cell_type": "code",
   "execution_count": 13,
   "id": "8f98e8a0",
   "metadata": {},
   "outputs": [
    {
     "name": "stdout",
     "output_type": "stream",
     "text": [
      "K = 384\n",
      "Acurácia  = 57.4062 %\n",
      "Taxa Erro = 42.5938 %\n",
      "\n",
      "\n",
      "\n"
     ]
    }
   ],
   "source": [
    "param_grid = {'n_neighbors': range(340, 400, 1)}\n",
    "knn = KNeighborsClassifier(weights='distance')\n",
    "grid_search = GridSearchCV(knn, param_grid, cv=5, scoring='accuracy')\n",
    "grid_search.fit(x_treino, y_treino)\n",
    "melhores_parametros = grid_search.best_params_\n",
    "melhor_acuracia = grid_search.best_score_\n",
    "\n",
    "print (\"K = %i\" % (melhores_parametros['n_neighbors']))\n",
    "print (\"Acurácia  = %4.4f %%\" % (100*melhor_acuracia))\n",
    "print (\"Taxa Erro = %4.4f %%\" % (100*(1-melhor_acuracia)))\n",
    "print (\"\\n\\n\")"
   ]
  },
  {
   "cell_type": "markdown",
   "id": "0a29b58a",
   "metadata": {},
   "source": [
    "Realiza o tratamento dos dados de teste, de forma que ele possua as mesmas colunas dos dados de treinamento."
   ]
  },
  {
   "cell_type": "code",
   "execution_count": 14,
   "id": "51fda0f8",
   "metadata": {},
   "outputs": [
    {
     "name": "stderr",
     "output_type": "stream",
     "text": [
      "C:\\Users\\sergi\\AppData\\Local\\Temp\\ipykernel_21388\\735316100.py:1: FutureWarning: Passing a set as an indexer is deprecated and will raise in a future version. Use a list instead.\n",
      "  dados_teste_clean = pd.get_dummies(dados_teste, columns=colunas_texto)\n",
      "C:\\Users\\sergi\\anaconda3\\Lib\\site-packages\\pandas\\core\\series.py:893: RuntimeWarning: invalid value encountered in cast\n",
      "  return np.asarray(self._values, dtype)\n"
     ]
    }
   ],
   "source": [
    "dados_teste_clean = pd.get_dummies(dados_teste, columns=colunas_texto)\n",
    "dados_teste_clean.drop(columns=colunas_removidas, inplace=True)\n",
    "\n",
    "dados_teste_clean['estado_onde_reside'] = dados_teste_clean['estado_onde_reside'].map({estado: indice for indice, estado in enumerate(estados)})\n",
    "dados_teste_clean['estado_onde_nasceu'] = dados_teste_clean['estado_onde_nasceu'].map({estado: indice for indice, estado in enumerate(estados)})\n",
    "dados_teste_clean['estado_onde_trabalha'] = dados_teste_clean['estado_onde_trabalha'].map({estado: indice for indice, estado in enumerate(estados)})\n",
    "\n",
    "dados_teste_clean['codigo_area_telefone_trabalho'] = dados_teste_clean['codigo_area_telefone_trabalho'].replace(' ', 0).astype(np.int64)\n",
    "dados_teste_clean['codigo_area_telefone_residencial'] = dados_teste_clean['codigo_area_telefone_residencial'].replace(' ', 0).astype(np.int64)\n",
    "\n",
    "colunas_teste = dados_teste_clean.columns\n",
    "for col in colunas_teste:\n",
    "    if type(dados_teste_clean[col][0]) == str:\n",
    "        colunas_str.append(col)\n",
    "    elif dados_teste_clean[col][0].dtype != ' int64':\n",
    "        dados_teste_clean[col] = np.int64(dados_teste_clean[col])\n",
    "\n",
    "\n",
    "colunas_retiradas_clean = [x for x in colunas_teste if x not in dados_treinamento_clean]\n",
    "dados_teste_clean.drop(columns=colunas_retiradas_clean, inplace=True)\n",
    "\n",
    "colunas_ausentes = set(dados_treinamento_clean.columns) - set(dados_teste_clean.columns)\n",
    "colunas_ausentes.remove('inadimplente')\n",
    "dados_teste_clean = pd.concat([dados_teste_clean, pd.DataFrame({coluna: [0] * len(dados_teste_clean) for coluna in colunas_ausentes})], axis=1)"
   ]
  },
  {
   "cell_type": "markdown",
   "id": "8b77001b",
   "metadata": {},
   "source": [
    "Cria o classificador com o maior valor de k encontrado anteriormente, treina-o com os arrays de teste e aplica o scaler nos dados recebidos pelo problema"
   ]
  },
  {
   "cell_type": "code",
   "execution_count": 15,
   "id": "564928b7",
   "metadata": {},
   "outputs": [],
   "source": [
    "classificador_final = KNeighborsClassifier(n_neighbors=melhores_parametros['n_neighbors'], weights='distance')\n",
    "\n",
    "classificador_final = classificador_final.fit(x_treino, y_treino)\n",
    "x_teste_real = dados_teste_clean.iloc[:, :].to_numpy()\n",
    "x_teste_real = scaler.transform(x_teste_real)"
   ]
  },
  {
   "cell_type": "markdown",
   "id": "36991e23",
   "metadata": {},
   "source": [
    "Aplica o classificador para predizer os dados recebidos e gera o arquivo com as respostas encontradas."
   ]
  },
  {
   "cell_type": "code",
   "execution_count": 16,
   "id": "13019f53",
   "metadata": {},
   "outputs": [],
   "source": [
    "y_resposta_teste_real = classificador_final.predict(x_teste_real)\n",
    "\n",
    "criar_resposta(y_resposta_teste_real)"
   ]
  },
  {
   "cell_type": "code",
   "execution_count": null,
   "id": "68fce7c7",
   "metadata": {},
   "outputs": [],
   "source": []
  }
 ],
 "metadata": {
  "kernelspec": {
   "display_name": "Python 3 (ipykernel)",
   "language": "python",
   "name": "python3"
  },
  "language_info": {
   "codemirror_mode": {
    "name": "ipython",
    "version": 3
   },
   "file_extension": ".py",
   "mimetype": "text/x-python",
   "name": "python",
   "nbconvert_exporter": "python",
   "pygments_lexer": "ipython3",
   "version": "3.11.4"
  }
 },
 "nbformat": 4,
 "nbformat_minor": 5
}
